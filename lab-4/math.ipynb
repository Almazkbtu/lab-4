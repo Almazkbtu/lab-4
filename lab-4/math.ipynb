{
 "cells": [
  {
   "cell_type": "code",
   "execution_count": 1,
   "id": "3c45f9bf-5e7e-4e64-92b5-d20b22a53075",
   "metadata": {},
   "outputs": [
    {
     "name": "stdin",
     "output_type": "stream",
     "text": [
      " 10\n"
     ]
    },
    {
     "name": "stdout",
     "output_type": "stream",
     "text": [
      "0.17453292519943295\n"
     ]
    }
   ],
   "source": [
    "import math \n",
    "def convert(a):\n",
    "    return math.radians(a)\n",
    "x = int(input())\n",
    "print(convert(x))"
   ]
  },
  {
   "cell_type": "code",
   "execution_count": 3,
   "id": "644bce19-e88c-4bd7-bbb1-4cf9a1b0edd2",
   "metadata": {},
   "outputs": [
    {
     "name": "stdin",
     "output_type": "stream",
     "text": [
      " 1\n",
      " 2\n",
      " 3\n"
     ]
    },
    {
     "name": "stdout",
     "output_type": "stream",
     "text": [
      "2.5\n"
     ]
    }
   ],
   "source": [
    "def trapezoid(a,b,c):\n",
    "    return (b+c)*a/2\n",
    "h = int(input())\n",
    "a = int(input())\n",
    "b = int(input())\n",
    "print(trapezoid(h,a,b))"
   ]
  },
  {
   "cell_type": "code",
   "execution_count": 5,
   "id": "38049c38-7edd-4a95-9b62-190957f57a21",
   "metadata": {},
   "outputs": [
    {
     "name": "stdin",
     "output_type": "stream",
     "text": [
      " 2\n",
      " 4\n"
     ]
    },
    {
     "name": "stdout",
     "output_type": "stream",
     "text": [
      "0\n"
     ]
    }
   ],
   "source": [
    "import math\n",
    "a = int(input())\n",
    "b = int(input())\n",
    "c = b/(2*math.tan(math.pi/a))\n",
    "print(int((a * b * c)/2))"
   ]
  },
  {
   "cell_type": "code",
   "execution_count": 7,
   "id": "4921e070-3fbf-43b9-b751-3650efa24b0c",
   "metadata": {},
   "outputs": [
    {
     "name": "stdin",
     "output_type": "stream",
     "text": [
      " 2\n",
      " 5\n"
     ]
    },
    {
     "name": "stdout",
     "output_type": "stream",
     "text": [
      "10.0\n"
     ]
    }
   ],
   "source": [
    "def parallelogram(a,b):\n",
    "    print(float(a*b))\n",
    "a = int(input())\n",
    "h = int(input())\n",
    "parallelogram(a,h)"
   ]
  },
  {
   "cell_type": "code",
   "execution_count": null,
   "id": "222cb733-7dad-4d1d-b1f8-658afba56eeb",
   "metadata": {},
   "outputs": [],
   "source": []
  }
 ],
 "metadata": {
  "kernelspec": {
   "display_name": "Python 3 (ipykernel)",
   "language": "python",
   "name": "python3"
  },
  "language_info": {
   "codemirror_mode": {
    "name": "ipython",
    "version": 3
   },
   "file_extension": ".py",
   "mimetype": "text/x-python",
   "name": "python",
   "nbconvert_exporter": "python",
   "pygments_lexer": "ipython3",
   "version": "3.12.7"
  }
 },
 "nbformat": 4,
 "nbformat_minor": 5
}
